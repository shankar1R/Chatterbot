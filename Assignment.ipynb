{
 "cells": [
  {
   "cell_type": "code",
   "execution_count": null,
   "metadata": {},
   "outputs": [],
   "source": [
    "from chatterbot import ChatBot\n",
    "from chatterbot.trainers import ListTrainer\n",
    "\n",
    "# Create a new chat bot named Charlie\n",
    "chatbot = ChatBot('Charlie')\n",
    "\n",
    "trainer = ListTrainer(chatbot)\n",
    "\n",
    "trainer.train([\n",
    "    \"Hi, can I help you?\",\n",
    "    \"Sure, I'd like to book a flight to Iceland.\",\n",
    "    \"Your flight has been booked.\"\n",
    "])\n",
    "\n",
    "# Get a response to the input text 'I would like to book a flight.'\n",
    "response = chatbot.get_response('I would like to book a flight.')\n",
    "\n",
    "print(response)"
   ]
  }
 ],
 "metadata": {
  "language_info": {
   "name": "python"
  },
  "orig_nbformat": 4
 },
 "nbformat": 4,
 "nbformat_minor": 2
}
